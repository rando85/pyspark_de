{
 "cells": [
  {
   "cell_type": "code",
   "execution_count": 2,
   "id": "4bfa56f0",
   "metadata": {},
   "outputs": [
    {
     "name": "stderr",
     "output_type": "stream",
     "text": [
      "Setting default log level to \"WARN\".\n",
      "To adjust logging level use sc.setLogLevel(newLevel). For SparkR, use setLogLevel(newLevel).\n",
      "25/04/24 20:05:23 WARN NativeCodeLoader: Unable to load native-hadoop library for your platform... using builtin-java classes where applicable\n",
      "25/04/24 20:05:24 WARN Utils: Service 'SparkUI' could not bind on port 4040. Attempting port 4041.\n",
      "25/04/24 20:05:24 WARN Utils: Service 'SparkUI' could not bind on port 4041. Attempting port 4042.\n"
     ]
    }
   ],
   "source": [
    "from pyspark.sql import SparkSession\n",
    "\n",
    "spark = SparkSession.builder.getOrCreate()\n"
   ]
  },
  {
   "cell_type": "code",
   "execution_count": 3,
   "id": "e2555686",
   "metadata": {},
   "outputs": [
    {
     "name": "stderr",
     "output_type": "stream",
     "text": [
      "                                                                                \r"
     ]
    }
   ],
   "source": [
    "appearances = spark.read.option(\"header\", \"true\").option('inferSchema', \"true\").csv('./data/ejercicio_s8/appearances.csv')\n",
    "clubs = spark.read.option(\"header\", \"true\").option('inferSchema', \"true\").csv('./data/ejercicio_s8/clubs.csv')\n",
    "competitions = spark.read.option(\"header\", \"true\").option('inferSchema', \"true\").csv('./data/ejercicio_s8/competitions.csv')\n",
    "games = spark.read.option(\"header\", \"true\").option('inferSchema', \"true\").csv('./data/ejercicio_s8/games.csv')\n",
    "leagues = spark.read.option(\"header\", \"true\").option('inferSchema', \"true\").csv('./data/ejercicio_s8/leagues.csv')\n",
    "players = spark.read.option(\"header\", \"true\").option('inferSchema', \"true\").csv('./data/ejercicio_s8/players.csv')"
   ]
  },
  {
   "cell_type": "code",
   "execution_count": 10,
   "id": "ac577ebb",
   "metadata": {},
   "outputs": [
    {
     "name": "stdout",
     "output_type": "stream",
     "text": [
      "root\n",
      " |-- player_id: integer (nullable = true)\n",
      " |-- game_id: integer (nullable = true)\n",
      " |-- appearance_id: string (nullable = true)\n",
      " |-- competition_id: string (nullable = true)\n",
      " |-- player_club_id: integer (nullable = true)\n",
      " |-- goals: integer (nullable = true)\n",
      " |-- assists: integer (nullable = true)\n",
      " |-- minutes_played: integer (nullable = true)\n",
      " |-- yellow_cards: integer (nullable = true)\n",
      " |-- red_cards: integer (nullable = true)\n",
      "\n"
     ]
    }
   ],
   "source": [
    "appearances.printSchema()"
   ]
  },
  {
   "cell_type": "code",
   "execution_count": 34,
   "id": "8fa7f7d0",
   "metadata": {},
   "outputs": [
    {
     "name": "stdout",
     "output_type": "stream",
     "text": [
      "+----------------+---------------+\n",
      "|country_of_birth|no_de_jugadores|\n",
      "+----------------+---------------+\n",
      "|          France|           1694|\n",
      "|           Spain|           1388|\n",
      "|           Italy|           1312|\n",
      "+----------------+---------------+\n",
      "\n"
     ]
    }
   ],
   "source": [
    "from pyspark.sql.functions import count, desc\n",
    "players.na.drop(subset=['country_of_birth']).groupBy('country_of_birth').agg(count('player_id').alias('no_de_jugadores')).orderBy(desc('no_de_jugadores')).limit(3).show()"
   ]
  },
  {
   "cell_type": "code",
   "execution_count": 12,
   "id": "3a22e57d",
   "metadata": {},
   "outputs": [
    {
     "name": "stdout",
     "output_type": "stream",
     "text": [
      "root\n",
      " |-- player_id: integer (nullable = true)\n",
      " |-- game_id: integer (nullable = true)\n",
      " |-- appearance_id: string (nullable = true)\n",
      " |-- competition_id: string (nullable = true)\n",
      " |-- player_club_id: integer (nullable = true)\n",
      " |-- goals: integer (nullable = true)\n",
      " |-- assists: integer (nullable = true)\n",
      " |-- minutes_played: integer (nullable = true)\n",
      " |-- yellow_cards: integer (nullable = true)\n",
      " |-- red_cards: integer (nullable = true)\n",
      " |-- current_club_id: integer (nullable = true)\n",
      " |-- name: string (nullable = true)\n",
      " |-- pretty_name: string (nullable = true)\n",
      " |-- country_of_birth: string (nullable = true)\n",
      " |-- country_of_citizenship: string (nullable = true)\n",
      " |-- date_of_birth: date (nullable = true)\n",
      " |-- position: string (nullable = true)\n",
      " |-- sub_position: string (nullable = true)\n",
      " |-- foot: string (nullable = true)\n",
      " |-- height_in_cm: integer (nullable = true)\n",
      " |-- market_value_in_gbp: double (nullable = true)\n",
      " |-- highest_market_value_in_gbp: double (nullable = true)\n",
      " |-- url: string (nullable = true)\n",
      "\n"
     ]
    }
   ],
   "source": [
    "from pyspark.sql.functions import col\n",
    "\n",
    "df_rojas = appearances.join(players, 'player_id')\n",
    "\n",
    "df_rojas.printSchema()"
   ]
  },
  {
   "cell_type": "code",
   "execution_count": 21,
   "id": "b5db6d9e",
   "metadata": {},
   "outputs": [
    {
     "name": "stdout",
     "output_type": "stream",
     "text": [
      "+----------------+--------------+\n",
      "|     pretty_name|tarjetas_rojas|\n",
      "+----------------+--------------+\n",
      "|         Marcelo|             6|\n",
      "|         Rodrigo|             5|\n",
      "|Domenico Berardi|             5|\n",
      "|      Thomas Lam|             5|\n",
      "|          Hilton|             5|\n",
      "|    Granit Xhaka|             5|\n",
      "| Mario Balotelli|             5|\n",
      "|   Heung Min Son|             4|\n",
      "| Gabriel Paletta|             4|\n",
      "|          Rafael|             4|\n",
      "|      Joao Pedro|             4|\n",
      "| Damien Da Silva|             4|\n",
      "|          Felipe|             4|\n",
      "|           Naldo|             4|\n",
      "|      Jordi Amat|             4|\n",
      "|     Ivan Ordets|             4|\n",
      "|          Danilo|             4|\n",
      "| Alexander Djiku|             4|\n",
      "| Rodrigo De Paul|             4|\n",
      "| Roberto Soriano|             4|\n",
      "+----------------+--------------+\n",
      "only showing top 20 rows\n",
      "\n"
     ]
    }
   ],
   "source": [
    "from pyspark.sql.functions import sum\n",
    "\n",
    "df_rojas.where(col('red_cards') > 0).groupBy('pretty_name').agg(sum('red_cards').alias('tarjetas_rojas')).orderBy(desc('tarjetas_rojas')).show()"
   ]
  },
  {
   "cell_type": "code",
   "execution_count": 27,
   "id": "dcffa014",
   "metadata": {},
   "outputs": [],
   "source": [
    "df_premier_league = games.join(competitions, games['competition_code'] == competitions['competition_id']).where(col('name') == 'premier-league')"
   ]
  },
  {
   "cell_type": "code",
   "execution_count": 24,
   "id": "5df31d2c",
   "metadata": {},
   "outputs": [
    {
     "name": "stdout",
     "output_type": "stream",
     "text": [
      "root\n",
      " |-- competition_id: string (nullable = true)\n",
      " |-- player_id: integer (nullable = true)\n",
      " |-- game_id: integer (nullable = true)\n",
      " |-- appearance_id: string (nullable = true)\n",
      " |-- player_club_id: integer (nullable = true)\n",
      " |-- goals: integer (nullable = true)\n",
      " |-- assists: integer (nullable = true)\n",
      " |-- minutes_played: integer (nullable = true)\n",
      " |-- yellow_cards: integer (nullable = true)\n",
      " |-- red_cards: integer (nullable = true)\n",
      " |-- name: string (nullable = true)\n",
      " |-- type: string (nullable = true)\n",
      " |-- country_id: integer (nullable = true)\n",
      " |-- country_name: string (nullable = true)\n",
      " |-- domestic_league_code: string (nullable = true)\n",
      " |-- confederation: string (nullable = true)\n",
      " |-- url: string (nullable = true)\n",
      "\n"
     ]
    }
   ],
   "source": [
    "df_premier_league.printSchema()"
   ]
  },
  {
   "cell_type": "code",
   "execution_count": 29,
   "id": "a7f5582f",
   "metadata": {},
   "outputs": [
    {
     "name": "stdout",
     "output_type": "stream",
     "text": [
      "+--------------+-----+\n",
      "|          name|count|\n",
      "+--------------+-----+\n",
      "|premier-league| 2809|\n",
      "+--------------+-----+\n",
      "\n"
     ]
    }
   ],
   "source": [
    "df_premier_league.groupBy(competitions['name']).count().show()"
   ]
  },
  {
   "cell_type": "code",
   "execution_count": 30,
   "id": "2161403d",
   "metadata": {},
   "outputs": [],
   "source": [
    "df_asistencia = games.join(competitions, games['competition_code'] == competitions['competition_id']) \\\n",
    "    .join(leagues, competitions['domestic_league_code'] == leagues['league_id'])"
   ]
  },
  {
   "cell_type": "code",
   "execution_count": 33,
   "id": "4dfc62ec",
   "metadata": {},
   "outputs": [
    {
     "name": "stdout",
     "output_type": "stream",
     "text": [
      "+--------------+---------+\n",
      "|          name|no_juegos|\n",
      "+--------------+---------+\n",
      "|  premier-liga|     4275|\n",
      "|        laliga|     3706|\n",
      "|premier-league|     3547|\n",
      "+--------------+---------+\n",
      "only showing top 3 rows\n",
      "\n"
     ]
    }
   ],
   "source": [
    "df_asistencia.groupBy(leagues['name']).agg(count('game_id').alias('no_juegos')).orderBy(desc('no_juegos')).show(3)"
   ]
  }
 ],
 "metadata": {
  "kernelspec": {
   "display_name": "oasis",
   "language": "python",
   "name": "python3"
  },
  "language_info": {
   "codemirror_mode": {
    "name": "ipython",
    "version": 3
   },
   "file_extension": ".py",
   "mimetype": "text/x-python",
   "name": "python",
   "nbconvert_exporter": "python",
   "pygments_lexer": "ipython3",
   "version": "3.12.9"
  }
 },
 "nbformat": 4,
 "nbformat_minor": 5
}
