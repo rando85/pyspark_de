{
 "cells": [
  {
   "cell_type": "code",
   "execution_count": 1,
   "id": "9a1a3983",
   "metadata": {},
   "outputs": [
    {
     "name": "stderr",
     "output_type": "stream",
     "text": [
      "Setting default log level to \"WARN\".\n",
      "To adjust logging level use sc.setLogLevel(newLevel). For SparkR, use setLogLevel(newLevel).\n",
      "25/04/27 12:22:09 WARN NativeCodeLoader: Unable to load native-hadoop library for your platform... using builtin-java classes where applicable\n"
     ]
    }
   ],
   "source": [
    "from pyspark.sql import SparkSession\n",
    "\n",
    "spark = SparkSession.builder.getOrCreate()\n"
   ]
  },
  {
   "cell_type": "code",
   "execution_count": 3,
   "id": "49c26113",
   "metadata": {},
   "outputs": [],
   "source": [
    "data = spark.read.parquet('./data/vuelos')"
   ]
  },
  {
   "cell_type": "code",
   "execution_count": 4,
   "id": "ef342afb",
   "metadata": {},
   "outputs": [
    {
     "name": "stdout",
     "output_type": "stream",
     "text": [
      "root\n",
      " |-- YEAR: integer (nullable = true)\n",
      " |-- MONTH: integer (nullable = true)\n",
      " |-- DAY: integer (nullable = true)\n",
      " |-- DAY_OF_WEEK: integer (nullable = true)\n",
      " |-- AIRLINE: string (nullable = true)\n",
      " |-- FLIGHT_NUMBER: integer (nullable = true)\n",
      " |-- TAIL_NUMBER: string (nullable = true)\n",
      " |-- ORIGIN_AIRPORT: string (nullable = true)\n",
      " |-- DESTINATION_AIRPORT: string (nullable = true)\n",
      " |-- SCHEDULED_DEPARTURE: integer (nullable = true)\n",
      " |-- DEPARTURE_TIME: integer (nullable = true)\n",
      " |-- DEPARTURE_DELAY: integer (nullable = true)\n",
      " |-- TAXI_OUT: integer (nullable = true)\n",
      " |-- WHEELS_OFF: integer (nullable = true)\n",
      " |-- SCHEDULED_TIME: integer (nullable = true)\n",
      " |-- ELAPSED_TIME: integer (nullable = true)\n",
      " |-- AIR_TIME: integer (nullable = true)\n",
      " |-- DISTANCE: integer (nullable = true)\n",
      " |-- WHEELS_ON: integer (nullable = true)\n",
      " |-- TAXI_IN: integer (nullable = true)\n",
      " |-- SCHEDULED_ARRIVAL: integer (nullable = true)\n",
      " |-- ARRIVAL_TIME: integer (nullable = true)\n",
      " |-- ARRIVAL_DELAY: integer (nullable = true)\n",
      " |-- DIVERTED: integer (nullable = true)\n",
      " |-- CANCELLED: integer (nullable = true)\n",
      " |-- CANCELLATION_REASON: string (nullable = true)\n",
      " |-- AIR_SYSTEM_DELAY: integer (nullable = true)\n",
      " |-- SECURITY_DELAY: integer (nullable = true)\n",
      " |-- AIRLINE_DELAY: integer (nullable = true)\n",
      " |-- LATE_AIRCRAFT_DELAY: integer (nullable = true)\n",
      " |-- WEATHER_DELAY: integer (nullable = true)\n",
      "\n"
     ]
    }
   ],
   "source": [
    "data.printSchema()"
   ]
  },
  {
   "cell_type": "code",
   "execution_count": 5,
   "id": "2c3832f7",
   "metadata": {},
   "outputs": [
    {
     "name": "stderr",
     "output_type": "stream",
     "text": [
      "25/04/27 12:26:08 WARN package: Truncated the string representation of a plan since it was too large. This behavior can be adjusted by setting 'spark.sql.debug.maxToStringFields'.\n",
      "                                                                                \r"
     ]
    },
    {
     "name": "stdout",
     "output_type": "stream",
     "text": [
      "+----+-----+---+-----------+-------+-------------+-----------+--------------+-------------------+-------------------+--------------+---------------+--------+----------+--------------+------------+--------+--------+---------+-------+-----------------+------------+-------------+--------+---------+-------------------+----------------+--------------+-------------+-------------------+-------------+\n",
      "|YEAR|MONTH|DAY|DAY_OF_WEEK|AIRLINE|FLIGHT_NUMBER|TAIL_NUMBER|ORIGIN_AIRPORT|DESTINATION_AIRPORT|SCHEDULED_DEPARTURE|DEPARTURE_TIME|DEPARTURE_DELAY|TAXI_OUT|WHEELS_OFF|SCHEDULED_TIME|ELAPSED_TIME|AIR_TIME|DISTANCE|WHEELS_ON|TAXI_IN|SCHEDULED_ARRIVAL|ARRIVAL_TIME|ARRIVAL_DELAY|DIVERTED|CANCELLED|CANCELLATION_REASON|AIR_SYSTEM_DELAY|SECURITY_DELAY|AIRLINE_DELAY|LATE_AIRCRAFT_DELAY|WEATHER_DELAY|\n",
      "+----+-----+---+-----------+-------+-------------+-----------+--------------+-------------------+-------------------+--------------+---------------+--------+----------+--------------+------------+--------+--------+---------+-------+-----------------+------------+-------------+--------+---------+-------------------+----------------+--------------+-------------+-------------------+-------------+\n",
      "|2015|    1|  1|          4|     AS|           98|     N407AS|           ANC|                SEA|                  5|          2354|            -11|      21|        15|           205|         194|     169|    1448|      404|      4|              430|         408|          -22|       0|        0|               null|            null|          null|         null|               null|         null|\n",
      "|2015|    1|  1|          4|     AA|         2336|     N3KUAA|           LAX|                PBI|                 10|             2|             -8|      12|        14|           280|         279|     263|    2330|      737|      4|              750|         741|           -9|       0|        0|               null|            null|          null|         null|               null|         null|\n",
      "|2015|    1|  1|          4|     US|          840|     N171US|           SFO|                CLT|                 20|            18|             -2|      16|        34|           286|         293|     266|    2296|      800|     11|              806|         811|            5|       0|        0|               null|            null|          null|         null|               null|         null|\n",
      "|2015|    1|  1|          4|     AA|          258|     N3HYAA|           LAX|                MIA|                 20|            15|             -5|      15|        30|           285|         281|     258|    2342|      748|      8|              805|         756|           -9|       0|        0|               null|            null|          null|         null|               null|         null|\n",
      "|2015|    1|  1|          4|     AS|          135|     N527AS|           SEA|                ANC|                 25|            24|             -1|      11|        35|           235|         215|     199|    1448|      254|      5|              320|         259|          -21|       0|        0|               null|            null|          null|         null|               null|         null|\n",
      "|2015|    1|  1|          4|     DL|          806|     N3730B|           SFO|                MSP|                 25|            20|             -5|      18|        38|           217|         230|     206|    1589|      604|      6|              602|         610|            8|       0|        0|               null|            null|          null|         null|               null|         null|\n",
      "|2015|    1|  1|          4|     NK|          612|     N635NK|           LAS|                MSP|                 25|            19|             -6|      11|        30|           181|         170|     154|    1299|      504|      5|              526|         509|          -17|       0|        0|               null|            null|          null|         null|               null|         null|\n",
      "|2015|    1|  1|          4|     US|         2013|     N584UW|           LAX|                CLT|                 30|            44|             14|      13|        57|           273|         249|     228|    2125|      745|      8|              803|         753|          -10|       0|        0|               null|            null|          null|         null|               null|         null|\n",
      "|2015|    1|  1|          4|     AA|         1112|     N3LAAA|           SFO|                DFW|                 30|            19|            -11|      17|        36|           195|         193|     173|    1464|      529|      3|              545|         532|          -13|       0|        0|               null|            null|          null|         null|               null|         null|\n",
      "|2015|    1|  1|          4|     DL|         1173|     N826DN|           LAS|                ATL|                 30|            33|              3|      12|        45|           221|         203|     186|    1747|      651|      5|              711|         656|          -15|       0|        0|               null|            null|          null|         null|               null|         null|\n",
      "|2015|    1|  1|          4|     DL|         2336|     N958DN|           DEN|                ATL|                 30|            24|             -6|      12|        36|           173|         149|     133|    1199|      449|      4|              523|         453|          -30|       0|        0|               null|            null|          null|         null|               null|         null|\n",
      "|2015|    1|  1|          4|     AA|         1674|     N853AA|           LAS|                MIA|                 35|            27|             -8|      21|        48|           268|         266|     238|    2174|      746|      7|              803|         753|          -10|       0|        0|               null|            null|          null|         null|               null|         null|\n",
      "|2015|    1|  1|          4|     DL|         1434|     N547US|           LAX|                MSP|                 35|            35|              0|      18|        53|           214|         210|     188|    1535|      601|      4|              609|         605|           -4|       0|        0|               null|            null|          null|         null|               null|         null|\n",
      "|2015|    1|  1|          4|     DL|         2324|     N3751B|           SLC|                ATL|                 40|            34|             -6|      18|        52|           215|         199|     176|    1590|      548|      5|              615|         553|          -22|       0|        0|               null|            null|          null|         null|               null|         null|\n",
      "|2015|    1|  1|          4|     DL|         2440|     N651DL|           SEA|                MSP|                 40|            39|             -1|      28|       107|           189|         198|     166|    1399|      553|      4|              549|         557|            8|       0|        0|               null|            null|          null|         null|               null|         null|\n",
      "|2015|    1|  1|          4|     AS|          108|     N309AS|           ANC|                SEA|                 45|            41|             -4|      17|        58|           204|         194|     173|    1448|      451|      4|              509|         455|          -14|       0|        0|               null|            null|          null|         null|               null|         null|\n",
      "|2015|    1|  1|          4|     DL|         1560|     N3743H|           ANC|                SEA|                 45|            31|            -14|      25|        56|           210|         200|     171|    1448|      447|      4|              515|         451|          -24|       0|        0|               null|            null|          null|         null|               null|         null|\n",
      "|2015|    1|  1|          4|     UA|         1197|     N78448|           SFO|                IAH|                 48|            42|             -6|      11|        53|           218|         217|     199|    1635|      612|      7|              626|         619|           -7|       0|        0|               null|            null|          null|         null|               null|         null|\n",
      "|2015|    1|  1|          4|     AS|          122|     N413AS|           ANC|                PDX|                 50|            46|             -4|      11|        57|           215|         201|     187|    1542|      504|      3|              525|         507|          -18|       0|        0|               null|            null|          null|         null|               null|         null|\n",
      "|2015|    1|  1|          4|     DL|         1670|     N806DN|           PDX|                MSP|                 50|            45|             -5|       9|        54|           193|         186|     171|    1426|      545|      6|              603|         551|          -12|       0|        0|               null|            null|          null|         null|               null|         null|\n",
      "+----+-----+---+-----------+-------+-------------+-----------+--------------+-------------------+-------------------+--------------+---------------+--------+----------+--------------+------------+--------+--------+---------+-------+-----------------+------------+-------------+--------+---------+-------------------+----------------+--------------+-------------+-------------------+-------------+\n",
      "only showing top 20 rows\n",
      "\n"
     ]
    }
   ],
   "source": [
    "data.show()"
   ]
  },
  {
   "cell_type": "code",
   "execution_count": 6,
   "id": "621a5116",
   "metadata": {},
   "outputs": [],
   "source": [
    "from pyspark.sql.functions import col"
   ]
  },
  {
   "cell_type": "code",
   "execution_count": 7,
   "id": "0b9dd426",
   "metadata": {},
   "outputs": [],
   "source": [
    "nuevo_df = (data.filter(col('MONTH').isin(6, 7, 8))\n",
    "            .withColumn('dis_tiempo_aire', col('DISTANCE') / col('AIR_TIME'))\n",
    "            ).select(\n",
    "                col('AIRLINE'),\n",
    "                col('dis_tiempo_aire')\n",
    "            ).where(col('AIRLINE').isin('AA', 'DL', 'AS'))"
   ]
  },
  {
   "cell_type": "code",
   "execution_count": 8,
   "id": "637feb11",
   "metadata": {},
   "outputs": [
    {
     "name": "stdout",
     "output_type": "stream",
     "text": [
      "== Parsed Logical Plan ==\n",
      "'Filter 'AIRLINE IN (AA,DL,AS)\n",
      "+- Project [AIRLINE#66, dis_tiempo_aire#250]\n",
      "   +- Project [YEAR#62, MONTH#63, DAY#64, DAY_OF_WEEK#65, AIRLINE#66, FLIGHT_NUMBER#67, TAIL_NUMBER#68, ORIGIN_AIRPORT#69, DESTINATION_AIRPORT#70, SCHEDULED_DEPARTURE#71, DEPARTURE_TIME#72, DEPARTURE_DELAY#73, TAXI_OUT#74, WHEELS_OFF#75, SCHEDULED_TIME#76, ELAPSED_TIME#77, AIR_TIME#78, DISTANCE#79, WHEELS_ON#80, TAXI_IN#81, SCHEDULED_ARRIVAL#82, ARRIVAL_TIME#83, ARRIVAL_DELAY#84, DIVERTED#85, ... 8 more fields]\n",
      "      +- Filter MONTH#63 IN (6,7,8)\n",
      "         +- Relation [YEAR#62,MONTH#63,DAY#64,DAY_OF_WEEK#65,AIRLINE#66,FLIGHT_NUMBER#67,TAIL_NUMBER#68,ORIGIN_AIRPORT#69,DESTINATION_AIRPORT#70,SCHEDULED_DEPARTURE#71,DEPARTURE_TIME#72,DEPARTURE_DELAY#73,TAXI_OUT#74,WHEELS_OFF#75,SCHEDULED_TIME#76,ELAPSED_TIME#77,AIR_TIME#78,DISTANCE#79,WHEELS_ON#80,TAXI_IN#81,SCHEDULED_ARRIVAL#82,ARRIVAL_TIME#83,ARRIVAL_DELAY#84,DIVERTED#85,... 7 more fields] parquet\n",
      "\n",
      "== Analyzed Logical Plan ==\n",
      "AIRLINE: string, dis_tiempo_aire: double\n",
      "Filter AIRLINE#66 IN (AA,DL,AS)\n",
      "+- Project [AIRLINE#66, dis_tiempo_aire#250]\n",
      "   +- Project [YEAR#62, MONTH#63, DAY#64, DAY_OF_WEEK#65, AIRLINE#66, FLIGHT_NUMBER#67, TAIL_NUMBER#68, ORIGIN_AIRPORT#69, DESTINATION_AIRPORT#70, SCHEDULED_DEPARTURE#71, DEPARTURE_TIME#72, DEPARTURE_DELAY#73, TAXI_OUT#74, WHEELS_OFF#75, SCHEDULED_TIME#76, ELAPSED_TIME#77, AIR_TIME#78, DISTANCE#79, WHEELS_ON#80, TAXI_IN#81, SCHEDULED_ARRIVAL#82, ARRIVAL_TIME#83, ARRIVAL_DELAY#84, DIVERTED#85, ... 8 more fields]\n",
      "      +- Filter MONTH#63 IN (6,7,8)\n",
      "         +- Relation [YEAR#62,MONTH#63,DAY#64,DAY_OF_WEEK#65,AIRLINE#66,FLIGHT_NUMBER#67,TAIL_NUMBER#68,ORIGIN_AIRPORT#69,DESTINATION_AIRPORT#70,SCHEDULED_DEPARTURE#71,DEPARTURE_TIME#72,DEPARTURE_DELAY#73,TAXI_OUT#74,WHEELS_OFF#75,SCHEDULED_TIME#76,ELAPSED_TIME#77,AIR_TIME#78,DISTANCE#79,WHEELS_ON#80,TAXI_IN#81,SCHEDULED_ARRIVAL#82,ARRIVAL_TIME#83,ARRIVAL_DELAY#84,DIVERTED#85,... 7 more fields] parquet\n",
      "\n",
      "== Optimized Logical Plan ==\n",
      "Project [AIRLINE#66, (cast(DISTANCE#79 as double) / cast(AIR_TIME#78 as double)) AS dis_tiempo_aire#250]\n",
      "+- Filter (MONTH#63 IN (6,7,8) AND AIRLINE#66 IN (AA,DL,AS))\n",
      "   +- Relation [YEAR#62,MONTH#63,DAY#64,DAY_OF_WEEK#65,AIRLINE#66,FLIGHT_NUMBER#67,TAIL_NUMBER#68,ORIGIN_AIRPORT#69,DESTINATION_AIRPORT#70,SCHEDULED_DEPARTURE#71,DEPARTURE_TIME#72,DEPARTURE_DELAY#73,TAXI_OUT#74,WHEELS_OFF#75,SCHEDULED_TIME#76,ELAPSED_TIME#77,AIR_TIME#78,DISTANCE#79,WHEELS_ON#80,TAXI_IN#81,SCHEDULED_ARRIVAL#82,ARRIVAL_TIME#83,ARRIVAL_DELAY#84,DIVERTED#85,... 7 more fields] parquet\n",
      "\n",
      "== Physical Plan ==\n",
      "*(1) Project [AIRLINE#66, (cast(DISTANCE#79 as double) / cast(AIR_TIME#78 as double)) AS dis_tiempo_aire#250]\n",
      "+- *(1) Filter (MONTH#63 IN (6,7,8) AND AIRLINE#66 IN (AA,DL,AS))\n",
      "   +- *(1) ColumnarToRow\n",
      "      +- FileScan parquet [MONTH#63,AIRLINE#66,AIR_TIME#78,DISTANCE#79] Batched: true, DataFilters: [MONTH#63 IN (6,7,8), AIRLINE#66 IN (AA,DL,AS)], Format: Parquet, Location: InMemoryFileIndex(1 paths)[file:/Users/rando/GitHub/pyspark_de/data/vuelos], PartitionFilters: [], PushedFilters: [In(MONTH, [6,7,8]), In(AIRLINE, [AA,AS,DL])], ReadSchema: struct<MONTH:int,AIRLINE:string,AIR_TIME:int,DISTANCE:int>\n",
      "\n"
     ]
    }
   ],
   "source": [
    "nuevo_df.explain(True)"
   ]
  },
  {
   "cell_type": "code",
   "execution_count": null,
   "id": "46c630fb",
   "metadata": {},
   "outputs": [],
   "source": []
  }
 ],
 "metadata": {
  "kernelspec": {
   "display_name": "oasis",
   "language": "python",
   "name": "python3"
  },
  "language_info": {
   "codemirror_mode": {
    "name": "ipython",
    "version": 3
   },
   "file_extension": ".py",
   "mimetype": "text/x-python",
   "name": "python",
   "nbconvert_exporter": "python",
   "pygments_lexer": "ipython3",
   "version": "3.12.9"
  }
 },
 "nbformat": 4,
 "nbformat_minor": 5
}
